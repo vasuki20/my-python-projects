{
 "cells": [
  {
   "cell_type": "code",
   "execution_count": 66,
   "id": "6e2f3916-84c1-447a-8090-7946e31298fc",
   "metadata": {},
   "outputs": [],
   "source": [
    "import pandas as pd\n",
    "import openpyxl\n",
    "import gspread\n",
    "from google.oauth2.service_account import Credentials\n",
    "from datetime import datetime"
   ]
  },
  {
   "cell_type": "code",
   "execution_count": 2,
   "id": "3f67f25a-6b0f-4b29-af4e-fb2849d4764c",
   "metadata": {},
   "outputs": [],
   "source": [
    "# Configuration\n",
    "XLSX_FILE_PATH = \"/Users/arulvasukisrinivasan/PycharmProjects/xlsx/eStatement_Standard Chartered Credit Card_9960_SGD_Nov_2024.xlsx\"\n",
    "CREDENTIALS_FILE = \"/Users/arulvasukisrinivasan/PycharmProjects/expenses-tracker-450506-d060c70cd70b.json\"\n",
    "SHEET_NAME = \"family_expense_2025_sheet\"\n",
    "NEW_SHEET_TITLE = \"Standard_chartered_CSV\""
   ]
  },
  {
   "cell_type": "code",
   "execution_count": 4,
   "id": "50ecb546-3072-4653-8ee7-5a1984693336",
   "metadata": {},
   "outputs": [],
   "source": [
    "# Authenticate and open Google Sheets\n",
    "scope = [\"https://spreadsheets.google.com/feeds\", \"https://www.googleapis.com/auth/spreadsheets\",\n",
    "         \"https://www.googleapis.com/auth/drive\"]\n",
    "credentials = Credentials.from_service_account_file(CREDENTIALS_FILE, scopes=scope)\n",
    "client = gspread.authorize(credentials)\n",
    "spreadsheet = client.open(SHEET_NAME)"
   ]
  },
  {
   "cell_type": "code",
   "execution_count": 10,
   "id": "393ddd25-9643-45ce-90d2-37dfd1f6fc6a",
   "metadata": {},
   "outputs": [],
   "source": [
    "# Function to process amount and handle 'CR'\n",
    "def process_amount(value):\n",
    "    \"\"\"Convert 'CR' to positive (credited) and others to negative (debited).\"\"\"\n",
    "    if isinstance(value, str) and \"CR\" in value:\n",
    "        return abs(float(value.replace(\" CR\", \"\").strip()))\n",
    "    try:\n",
    "        return -abs(float(value))  # Debit amounts are negative\n",
    "    except ValueError:\n",
    "        return 0.0  # Handle errors gracefully"
   ]
  },
  {
   "cell_type": "code",
   "execution_count": 5,
   "id": "26efe4bb-0131-4a8f-825d-7f9344adac41",
   "metadata": {},
   "outputs": [],
   "source": [
    "# Check if the worksheet exists, else create it\n",
    "try:\n",
    "    sheet = spreadsheet.worksheet(NEW_SHEET_TITLE)\n",
    "except gspread.exceptions.WorksheetNotFound:\n",
    "    sheet = spreadsheet.add_worksheet(title=NEW_SHEET_TITLE, rows=\"100\", cols=\"20\")"
   ]
  },
  {
   "cell_type": "code",
   "execution_count": 8,
   "id": "69509f17-d845-4861-a0cf-167b9f21fb85",
   "metadata": {},
   "outputs": [],
   "source": [
    "# Read all sheets from the XLSX file\n",
    "xls = pd.ExcelFile(XLSX_FILE_PATH, engine='openpyxl')\n",
    "\n",
    "transactions = []\n",
    "required_columns = {'Posting Date', 'Description'}  # Set for quick comparison"
   ]
  },
  {
   "cell_type": "code",
   "execution_count": 11,
   "id": "01c0d292-e049-4f59-9d09-7bb2fcc5824b",
   "metadata": {},
   "outputs": [
    {
     "name": "stdout",
     "output_type": "stream",
     "text": [
      "Processing sheet: Table 1\n",
      "print excel file Index(['ARIVALAGAN KARTHIKEYAN 249 #06-478\\nCHOA CHU KANG AVENUE 2\\nSINGAPORE 680249',\n",
      "       'Unnamed: 1', 'Unnamed: 2', 'Unnamed: 3', 'Unnamed: 4', 'Unnamed: 5',\n",
      "       'Unnamed: 6',\n",
      "       'Statement Date                              :   17 Nov 2024\\nPayment Due Date                         :   09 Dec 2024\\n7020000002479504',\n",
      "       'Unnamed: 8', 'Unnamed: 9', 'Unnamed: 10', 'Unnamed: 11', 'Unnamed: 12',\n",
      "       'Unnamed: 13', 'Unnamed: 14', 'Unnamed: 15'],\n",
      "      dtype='object')\n",
      "Skipping 'Table 1' - Missing required columns.\n",
      "Processing sheet: Table 2\n",
      "print excel file Index(['Transaction Date\\n04 Nov', 'Posting Date', 'Description', 'Unnamed: 3',\n",
      "       'Amount (SGD)'],\n",
      "      dtype='object')\n",
      "Processing sheet: Table 3\n",
      "print excel file Index(['Total Relationship Rewards', 'Unnamed: 1', 'Unnamed: 2', 'Unnamed: 3',\n",
      "       'Unnamed: 4', 'Unnamed: 5', 'Unnamed: 6', 'Unnamed: 7', 'Points Earned',\n",
      "       'Unnamed: 9', 'Unnamed: 10', 'Unnamed: 11', 'Unnamed: 12'],\n",
      "      dtype='object')\n",
      "Skipping 'Table 3' - Missing required columns.\n",
      "Processing sheet: Table 4\n",
      "print excel file Index(['Personal Banking', '(+65) 6747 7000 (24-hour)', 'Business Banking',\n",
      "       'Unnamed: 3', '(+65) 6743 3000 (Mon-Fri, 9am-6pm)'],\n",
      "      dtype='object')\n",
      "Skipping 'Table 4' - Missing required columns.\n"
     ]
    }
   ],
   "source": [
    "# Process each sheet\n",
    "for sheet_name in xls.sheet_names:\n",
    "    print(f\"Processing sheet: {sheet_name}\")\n",
    "\n",
    "    df = pd.read_excel(xls, sheet_name=sheet_name, engine='openpyxl')\n",
    "    print(f\"print excel file {df.columns}\")\n",
    "    # Check if required columns exist\n",
    "    if not required_columns.issubset(df.columns):\n",
    "        print(f\"Skipping '{sheet_name}' - Missing required columns.\")\n",
    "        continue\n",
    "\n",
    "    # Process valid rows\n",
    "    for idx, row in df.iterrows():\n",
    "        try:\n",
    "            date = str(row['Posting Date']).strip()\n",
    "            description = str(row['Description']).strip()\n",
    "            amount = process_amount(str(row['Amount (SGD)']) if 'Amount (SGD)' in row and pd.notna(row['Amount (SGD)']) else \"0\")\n",
    "            remarks = description if description else \"credited\" if amount > 0 else \"debit\"\n",
    "            transactions.append([date, amount, remarks])\n",
    "\n",
    "        except (ValueError, IndexError) as e:\n",
    "            print(f\"Skipping invalid row {idx + 2} in sheet '{sheet_name}': {e}\")"
   ]
  },
  {
   "cell_type": "code",
   "execution_count": 97,
   "id": "9dd5f9f1-d441-4e95-8498-3ba6ada8b1b5",
   "metadata": {},
   "outputs": [
    {
     "name": "stdout",
     "output_type": "stream",
     "text": [
      "Processing sheet: Table 1\n",
      "total transactions - 76\n",
      "Processing sheet: Table 2\n",
      "total transactions - 41\n",
      "Processing sheet: Table 3\n",
      "total transactions - 0\n",
      "Processing sheet: Table 4\n",
      "total transactions - 0\n"
     ]
    }
   ],
   "source": [
    "# Process each sheet\n",
    "for sheet_name in xls.sheet_names:\n",
    "    print(f\"Processing sheet: {sheet_name}\")\n",
    "    if False and not sheet_name == 'Table 2':\n",
    "        print(\"skipping {}\".format(sheet_name))\n",
    "        continue\n",
    "\n",
    "    df = pd.read_excel(xls, sheet_name=sheet_name, engine='openpyxl')\n",
    "    column_indexs = {\n",
    "        \"Table 1\": {\n",
    "            \"transaction_date\": 0,\n",
    "            \"description_1\": 3,\n",
    "            \"description_2\": 10,\n",
    "            \"amount\": 14,\n",
    "        },\n",
    "        \"Table 2\": {\n",
    "            \"transaction_date\": 0,\n",
    "            \"description_1\": 2,\n",
    "            \"description_2\": 3,\n",
    "            \"amount\": 4,\n",
    "        }\n",
    "    }\n",
    "    transactions = []\n",
    "    if sheet_name in column_indexs:\n",
    "        for idx, row in df.iterrows():                \n",
    "            transaction_date = None\n",
    "            try:\n",
    "                transaction_date = row.iloc[column_indexs[sheet_name]['transaction_date']]\n",
    "                if type(transaction_date) == str:\n",
    "                    transaction_date = datetime.strptime(transaction_date, \"%d %b\")  # Expects format like \"16 Nov\"\n",
    "            except ValueError:\n",
    "                pass\n",
    "            if transaction_date:\n",
    "                values = []\n",
    "                values.append(transaction_date)\n",
    "                values.append(row.iloc[column_indexs[sheet_name]['description_1']])\n",
    "                values.append(row.iloc[column_indexs[sheet_name]['description_1']])\n",
    "                values.append(row.iloc[column_indexs[sheet_name]['amount']])\n",
    "                transactions.append(values)\n",
    "    print(\"total transactions - {}\".format(len(transactions)))"
   ]
  },
  {
   "cell_type": "code",
   "execution_count": 98,
   "id": "17539f02-24d5-4fb0-b55f-b1715ae6cdf0",
   "metadata": {},
   "outputs": [
    {
     "data": {
      "text/plain": [
       "Transaction Date\\n04 Nov                    NaN\n",
       "Posting Date                                NaN\n",
       "Description                 MINIMUM PAYMENT DUE\n",
       "Unnamed: 3                                  NaN\n",
       "Amount (SGD)                                 50\n",
       "Name: 40, dtype: object"
      ]
     },
     "execution_count": 98,
     "metadata": {},
     "output_type": "execute_result"
    }
   ],
   "source": [
    "row"
   ]
  },
  {
   "cell_type": "code",
   "execution_count": 74,
   "id": "50725124-f001-4b55-8bb5-7eeebd159b42",
   "metadata": {},
   "outputs": [
    {
     "data": {
      "text/plain": [
       "ARIVALAGAN KARTHIKEYAN 249 #06-478\\nCHOA CHU KANG AVENUE 2\\nSINGAPORE 680249                                                                                                14 Oct\n",
       "Unnamed: 1                                                                                                                                                                  18 Oct\n",
       "Unnamed: 2                                                                                                                                                                     NaN\n",
       "Unnamed: 3                                                                                                                                          BUS/MRT 519631551 SINGAPORE SG\n",
       "Unnamed: 4                                                                                                                                                                     NaN\n",
       "Unnamed: 5                                                                                                                                                                     NaN\n",
       "Unnamed: 6                                                                                                                                                                     NaN\n",
       "Statement Date                              :   17 Nov 2024\\nPayment Due Date                         :   09 Dec 2024\\n7020000002479504                                        NaN\n",
       "Unnamed: 8                                                                                                                                                                     NaN\n",
       "Unnamed: 9                                                                                                                                                                     NaN\n",
       "Unnamed: 10                                                                                                                                Transaction Ref 74541834291288084869843\n",
       "Unnamed: 11                                                                                                                                                                    NaN\n",
       "Unnamed: 12                                                                                                                                                                    NaN\n",
       "Unnamed: 13                                                                                                                                                                    NaN\n",
       "Unnamed: 14                                                                                                                                                                   4.17\n",
       "Unnamed: 15                                                                                                                                                                    NaN\n",
       "Name: 14, dtype: object"
      ]
     },
     "execution_count": 74,
     "metadata": {},
     "output_type": "execute_result"
    }
   ],
   "source": [
    "row"
   ]
  },
  {
   "cell_type": "code",
   "execution_count": 55,
   "id": "840c3155-af70-4d3e-83f4-b2d1c9ade51c",
   "metadata": {},
   "outputs": [
    {
     "data": {
      "text/plain": [
       "16"
      ]
     },
     "execution_count": 55,
     "metadata": {},
     "output_type": "execute_result"
    }
   ],
   "source": [
    "len(row.index)"
   ]
  },
  {
   "cell_type": "code",
   "execution_count": null,
   "id": "645647dd-5830-4c55-b789-1a52956aa2a6",
   "metadata": {},
   "outputs": [],
   "source": []
  },
  {
   "cell_type": "code",
   "execution_count": 57,
   "id": "3d588c50-0455-42d2-b7ec-0b807d9a93f7",
   "metadata": {},
   "outputs": [
    {
     "data": {
      "text/plain": [
       "<bound method Series.items of ARIVALAGAN KARTHIKEYAN 249 #06-478\\nCHOA CHU KANG AVENUE 2\\nSINGAPORE 680249                                                                            03 Nov\n",
       "Unnamed: 1                                                                                                                                              04 Nov\n",
       "Unnamed: 2                                                                                                                                                 NaN\n",
       "Unnamed: 3                                                                                                                                 51EZPY INCOME 93041\n",
       "Unnamed: 4                                                                                                                                                 NaN\n",
       "Unnamed: 5                                                                                                                                                 NaN\n",
       "Unnamed: 6                                                                                                                                                 NaN\n",
       "Statement Date                              :   17 Nov 2024\\nPayment Due Date                         :   09 Dec 2024\\n7020000002479504                    NaN\n",
       "Unnamed: 8                                                                                                                                                 NaN\n",
       "Unnamed: 9                                                                                                                                                 NaN\n",
       "Unnamed: 10                                                                                                                                                NaN\n",
       "Unnamed: 11                                                                                                                                                NaN\n",
       "Unnamed: 12                                                                                                                                                NaN\n",
       "Unnamed: 13                                                                                                                                                NaN\n",
       "Unnamed: 14                                                                                                                                          693.83 CR\n",
       "Unnamed: 15                                                                                                                                                NaN\n",
       "Name: 75, dtype: object>"
      ]
     },
     "execution_count": 57,
     "metadata": {},
     "output_type": "execute_result"
    }
   ],
   "source": [
    "row.items"
   ]
  },
  {
   "cell_type": "code",
   "execution_count": 60,
   "id": "68db2851-0f91-4119-babf-98edd67ddd19",
   "metadata": {},
   "outputs": [
    {
     "data": {
      "text/plain": [
       "'51EZPY INCOME 93041'"
      ]
     },
     "execution_count": 60,
     "metadata": {},
     "output_type": "execute_result"
    }
   ],
   "source": [
    "row['Unnamed: 3']"
   ]
  },
  {
   "cell_type": "code",
   "execution_count": 61,
   "id": "23b23f9a-f432-4d45-a1ef-215077c19800",
   "metadata": {},
   "outputs": [
    {
     "data": {
      "text/plain": [
       "pandas.core.series.Series"
      ]
     },
     "execution_count": 61,
     "metadata": {},
     "output_type": "execute_result"
    }
   ],
   "source": [
    "type(row)"
   ]
  },
  {
   "cell_type": "code",
   "execution_count": 99,
   "id": "f56c4da1-b07d-4819-921e-5ad4eea6f69e",
   "metadata": {},
   "outputs": [
    {
     "name": "stdout",
     "output_type": "stream",
     "text": [
      "Processing sheet: Table 1\n",
      "print excel file Index(['ARIVALAGAN KARTHIKEYAN 249 #06-478\\nCHOA CHU KANG AVENUE 2\\nSINGAPORE 680249',\n",
      "       'Unnamed: 1', 'Unnamed: 2', 'Unnamed: 3', 'Unnamed: 4', 'Unnamed: 5',\n",
      "       'Unnamed: 6',\n",
      "       'Statement Date                              :   17 Nov 2024\\nPayment Due Date                         :   09 Dec 2024\\n7020000002479504',\n",
      "       'Unnamed: 8', 'Unnamed: 9', 'Unnamed: 10', 'Unnamed: 11', 'Unnamed: 12',\n",
      "       'Unnamed: 13', 'Unnamed: 14', 'Unnamed: 15'],\n",
      "      dtype='object')\n",
      "Skipping 'Table 1' - Missing required columns.\n",
      "Processing sheet: Table 2\n",
      "print excel file Index(['Transaction Date\\n04 Nov', 'Posting Date', 'Description', 'Unnamed: 3',\n",
      "       'Amount (SGD)'],\n",
      "      dtype='object')\n",
      "Processing sheet: Table 3\n",
      "print excel file Index(['Total Relationship Rewards', 'Unnamed: 1', 'Unnamed: 2', 'Unnamed: 3',\n",
      "       'Unnamed: 4', 'Unnamed: 5', 'Unnamed: 6', 'Unnamed: 7', 'Points Earned',\n",
      "       'Unnamed: 9', 'Unnamed: 10', 'Unnamed: 11', 'Unnamed: 12'],\n",
      "      dtype='object')\n",
      "Skipping 'Table 3' - Missing required columns.\n",
      "Processing sheet: Table 4\n",
      "print excel file Index(['Personal Banking', '(+65) 6747 7000 (24-hour)', 'Business Banking',\n",
      "       'Unnamed: 3', '(+65) 6743 3000 (Mon-Fri, 9am-6pm)'],\n",
      "      dtype='object')\n",
      "Skipping 'Table 4' - Missing required columns.\n",
      "No valid transactions found.\n"
     ]
    }
   ],
   "source": [
    "import pandas as pd\n",
    "import openpyxl\n",
    "import gspread\n",
    "from google.oauth2.service_account import Credentials\n",
    "from datetime import datetime\n",
    "import numpy as np\n",
    "\n",
    "# Configuration\n",
    "XLSX_FILE_PATH = \"/Users/arulvasukisrinivasan/PycharmProjects/xlsx/eStatement_Standard Chartered Credit Card_9960_SGD_Nov_2024.xlsx\"\n",
    "CREDENTIALS_FILE = \"/Users/arulvasukisrinivasan/PycharmProjects/expenses-tracker-450506-d060c70cd70b.json\"\n",
    "SHEET_NAME = \"family_expense_2025_sheet\"\n",
    "NEW_SHEET_TITLE = \"Standard_chartered_CSV\"\n",
    "\n",
    "# Authenticate and open Google Sheets\n",
    "scope = [\"https://spreadsheets.google.com/feeds\", \"https://www.googleapis.com/auth/spreadsheets\",\n",
    "         \"https://www.googleapis.com/auth/drive\"]\n",
    "credentials = Credentials.from_service_account_file(CREDENTIALS_FILE, scopes=scope)\n",
    "client = gspread.authorize(credentials)\n",
    "spreadsheet = client.open(SHEET_NAME)\n",
    "\n",
    "# Check if the worksheet exists, else create it\n",
    "try:\n",
    "    sheet = spreadsheet.worksheet(NEW_SHEET_TITLE)\n",
    "except gspread.exceptions.WorksheetNotFound:\n",
    "    sheet = spreadsheet.add_worksheet(title=NEW_SHEET_TITLE, rows=\"100\", cols=\"20\")\n",
    "\n",
    "# Function to process amount and handle 'CR'\n",
    "def process_amount(value):\n",
    "    \"\"\"Convert 'CR' to positive (credited) and others to negative (debited).\"\"\"\n",
    "    if isinstance(value, str) and \"CR\" in value:\n",
    "        return abs(float(value.replace(\" CR\", \"\").strip()))\n",
    "    try:\n",
    "        return -abs(float(value))  # Debit amounts are negative\n",
    "    except ValueError:\n",
    "        return 0.0  # Handle errors gracefully\n",
    "\n",
    "# Read all sheets from the XLSX file\n",
    "xls = pd.ExcelFile(XLSX_FILE_PATH, engine='openpyxl')\n",
    "\n",
    "transactions = []\n",
    "required_columns = {'Posting Date', 'Description'}  # Set for quick comparison\n",
    "\n",
    "# Column indexes for Table 1 and Table 2\n",
    "column_indexs = {\n",
    "    \"Table 1\": {\n",
    "        \"transaction_date\": 0,\n",
    "        \"description_1\": 3,\n",
    "        \"description_2\": 10,\n",
    "        \"amount\": 14,\n",
    "    },\n",
    "    \"Table 2\": {\n",
    "        \"transaction_date\": 0,\n",
    "        \"description_1\": 2,\n",
    "        \"description_2\": 3,\n",
    "        \"amount\": 4,\n",
    "    }\n",
    "}\n",
    "\n",
    "# Process each sheet\n",
    "for sheet_name in xls.sheet_names:\n",
    "    print(f\"Processing sheet: {sheet_name}\")\n",
    "\n",
    "    df = pd.read_excel(xls, sheet_name=sheet_name, engine='openpyxl')\n",
    "    print(f\"print excel file {df.columns}\")\n",
    "    # Check if required columns exist\n",
    "    if not required_columns.issubset(df.columns):\n",
    "        print(f\"Skipping '{sheet_name}' - Missing required columns.\")\n",
    "        continue\n",
    "        # Ensure Table 1 and Table 2 are being read\n",
    "    if sheet_name not in column_indexs:\n",
    "        print(f\"Skipping '{sheet_name}' - Not mapped for column indexes.\")\n",
    "        continue\n",
    "\n",
    "    # Process valid rows\n",
    "    for idx, row in df.iterrows():\n",
    "        try:\n",
    "            transaction_date = None\n",
    "            # Convert date properly\n",
    "            if isinstance(transaction_date, str):\n",
    "                try:\n",
    "                    transaction_date = datetime.strptime(transaction_date, \"%d %b\").strftime(\n",
    "                        '%Y-%m-%d')  # Format like \"16 Nov\"\n",
    "                except ValueError:\n",
    "                    print(f\"Invalid date format in row {idx + 2} of {sheet_name}: {transaction_date}\")\n",
    "                    transaction_date = \"\"\n",
    "            elif pd.notna(transaction_date):\n",
    "                transaction_date = pd.to_datetime(transaction_date, errors='coerce').strftime('%Y-%m-%d')\n",
    "            else:\n",
    "                transaction_date = \"\"\n",
    "\n",
    "            if transaction_date:\n",
    "                # Extract other columns\n",
    "                description_1 = str(row.iloc[column_indexs[sheet_name]['description_1']]).strip()\n",
    "                description_2 = str(row.iloc[column_indexs[sheet_name]['description_2']]).strip()\n",
    "\n",
    "                # Process amount correctly\n",
    "                amount_index = column_indexs[sheet_name]['amount']\n",
    "                amount = process_amount(str(row.iloc[amount_index]) if pd.notna(row.iloc[amount_index]) else \"0\")\n",
    "\n",
    "                # Prepare remarks\n",
    "                remarks = description_1 if description_1 else description_2 if description_2 else \"credited\" if amount > 0 else \"debit\"\n",
    "\n",
    "                # Append transaction\n",
    "                transactions.append([transaction_date, amount, remarks])\n",
    "                print(f\"Added transaction: {transaction_date}, {amount}, {remarks}\")\n",
    "                print(\"total transactions - {}\".format(len(transactions)))\n",
    "\n",
    "        except (ValueError, IndexError) as e:\n",
    "            print(f\"Skipping invalid row {idx + 2} in sheet '{sheet_name}': {e}\")\n",
    "\n",
    "# Write headers\n",
    "headers = [[\"Date\", \"Amount\", \"Remarks\"]]\n",
    "sheet.update(range_name=\"A1:C1\", values=headers)\n",
    "\n",
    "# Write transactions to Google Sheets\n",
    "if transactions:\n",
    "    start_row = 2\n",
    "    data_range = f\"A{start_row}:C{start_row + len(transactions) - 1}\"\n",
    "    sheet.update(range_name=data_range, values=transactions)\n",
    "\n",
    "    # Calculate totals\n",
    "    debited_sum = sum(abs(t[1]) for t in transactions if t[1] < 0)\n",
    "    credited_sum = sum(t[1] for t in transactions if t[1] > 0)\n",
    "    total_spent = debited_sum\n",
    "\n",
    "    # Write summary values\n",
    "    summary_row = len(transactions) + start_row\n",
    "    summary_values = [\n",
    "        [\"Debited\", debited_sum],\n",
    "        [\"Credited Money\", credited_sum],\n",
    "        [\"Total Money Spent (This Month)\", total_spent]\n",
    "    ]\n",
    "    sheet.update(range_name=f\"A{summary_row}:B{summary_row + 2}\", values=summary_values)\n",
    "\n",
    "    print(\"Data successfully written to Google Sheets.\")\n",
    "else:\n",
    "    print(\"No valid transactions found.\")\n",
    "\n"
   ]
  },
  {
   "cell_type": "code",
   "execution_count": 100,
   "id": "e75da287-ad34-47b5-9410-7d41f2637969",
   "metadata": {},
   "outputs": [
    {
     "name": "stdout",
     "output_type": "stream",
     "text": [
      "Processing sheet: Table 1\n",
      "print excel file Index(['ARIVALAGAN KARTHIKEYAN 249 #06-478\\nCHOA CHU KANG AVENUE 2\\nSINGAPORE 680249',\n",
      "       'Unnamed: 1', 'Unnamed: 2', 'Unnamed: 3', 'Unnamed: 4', 'Unnamed: 5',\n",
      "       'Unnamed: 6',\n",
      "       'Statement Date                              :   17 Nov 2024\\nPayment Due Date                         :   09 Dec 2024\\n7020000002479504',\n",
      "       'Unnamed: 8', 'Unnamed: 9', 'Unnamed: 10', 'Unnamed: 11', 'Unnamed: 12',\n",
      "       'Unnamed: 13', 'Unnamed: 14', 'Unnamed: 15'],\n",
      "      dtype='object')\n",
      "Skipping 'Table 1' - Missing required columns.\n",
      "Processing sheet: Table 2\n",
      "print excel file Index(['Transaction Date\\n04 Nov', 'Posting Date', 'Description', 'Unnamed: 3',\n",
      "       'Amount (SGD)'],\n",
      "      dtype='object')\n",
      "Processing sheet: Table 3\n",
      "print excel file Index(['Total Relationship Rewards', 'Unnamed: 1', 'Unnamed: 2', 'Unnamed: 3',\n",
      "       'Unnamed: 4', 'Unnamed: 5', 'Unnamed: 6', 'Unnamed: 7', 'Points Earned',\n",
      "       'Unnamed: 9', 'Unnamed: 10', 'Unnamed: 11', 'Unnamed: 12'],\n",
      "      dtype='object')\n",
      "Skipping 'Table 3' - Missing required columns.\n",
      "Processing sheet: Table 4\n",
      "print excel file Index(['Personal Banking', '(+65) 6747 7000 (24-hour)', 'Business Banking',\n",
      "       'Unnamed: 3', '(+65) 6743 3000 (Mon-Fri, 9am-6pm)'],\n",
      "      dtype='object')\n",
      "Skipping 'Table 4' - Missing required columns.\n"
     ]
    }
   ],
   "source": [
    "# Process each sheet\n",
    "for sheet_name in xls.sheet_names:\n",
    "    print(f\"Processing sheet: {sheet_name}\")\n",
    "\n",
    "    df = pd.read_excel(xls, sheet_name=sheet_name, engine='openpyxl')\n",
    "    print(f\"print excel file {df.columns}\")\n",
    "    # Check if required columns exist\n",
    "    if not required_columns.issubset(df.columns):\n",
    "        print(f\"Skipping '{sheet_name}' - Missing required columns.\")\n",
    "        continue\n",
    "        # Ensure Table 1 and Table 2 are being read\n",
    "    if sheet_name not in column_indexs:\n",
    "        print(f\"Skipping '{sheet_name}' - Not mapped for column indexes.\")\n",
    "        continue\n",
    "        "
   ]
  },
  {
   "cell_type": "code",
   "execution_count": null,
   "id": "3d2ccd8d-7609-486b-b58d-6558ee062658",
   "metadata": {},
   "outputs": [],
   "source": []
  }
 ],
 "metadata": {
  "kernelspec": {
   "display_name": "Python 3 (ipykernel)",
   "language": "python",
   "name": "python3"
  },
  "language_info": {
   "codemirror_mode": {
    "name": "ipython",
    "version": 3
   },
   "file_extension": ".py",
   "mimetype": "text/x-python",
   "name": "python",
   "nbconvert_exporter": "python",
   "pygments_lexer": "ipython3",
   "version": "3.13.0"
  }
 },
 "nbformat": 4,
 "nbformat_minor": 5
}
